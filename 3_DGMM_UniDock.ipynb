{
 "cells": [
  {
   "cell_type": "code",
   "execution_count": null,
   "id": "9d307da0",
   "metadata": {
    "ExecuteTime": {
     "end_time": "2025-04-11T13:47:26.779812Z",
     "start_time": "2025-04-11T13:47:22.715153Z"
    },
    "scrolled": true
   },
   "outputs": [],
   "source": [
    "# Parameters and extra constraint config\n",
    "from DGMM_utils import DGMMmodel\n",
    "from rdkit import Chem, DataStructs\n",
    "\n",
    "\n",
    "# if using unidock Dock Method\n",
    "import os\n",
    "# Change the path to your conda env!\n",
    "os.environ[\"PATH\"] = f\"/opt/miniconda3/envs/dgmm/bin:{os.environ['PATH']}\"\n",
    "\n",
    "SATHD=3.\n",
    "QEDTHD=0.5\n",
    "SIMTHD=0.4\n",
    "MAXTRYS=80\n",
    "\n",
    "def ex_constraint(mol):\n",
    "# ADD any structure preference here\n",
    "# Input: mol, rdkit mol object\n",
    "# Output: score, [0,1] values of molecule weights\n",
    "    score = 1.\n",
    "#For Example:\n",
    "#     afp = Chem.RDKFingerprint(Chem.MolFromSmiles('OCC(O)NCN(CCc1ccc(-c2ccncc2)cc1)c1ccccc1'))\n",
    "#     sim_score = DataStructs.TanimotoSimilarity(Chem.RDKFingerprint(mol), afp)\n",
    "#     score *= sim_score\n",
    "    return score\n",
    "\n",
    "####################\n",
    "#set the path to your model path#\n",
    "model_path = '/opt/jupyter/DGMM/model/'\n",
    "####################\n",
    "\n",
    "\n",
    "DGMM = DGMMmodel(model_path, dock_grids='HDAC8_5D1B', method='unidock', vfactor=0.1, thread=10,\n",
    "             qedthd=QEDTHD, sathd=SATHD, simthd=SIMTHD, popsize=80, ex_constraint=ex_constraint, loglevel=-1)"
   ]
  },
  {
   "cell_type": "code",
   "execution_count": null,
   "id": "7b3054c7",
   "metadata": {
    "ExecuteTime": {
     "end_time": "2025-04-10T13:27:33.417128Z",
     "start_time": "2025-04-10T13:27:32.972019Z"
    },
    "scrolled": true
   },
   "outputs": [],
   "source": [
    "DGMM.reset('C1=CC=C(C=C1)C2=CC(=O)C3=CC=CC=C3O2')"
   ]
  },
  {
   "cell_type": "code",
   "execution_count": null,
   "id": "a869f265",
   "metadata": {
    "ExecuteTime": {
     "end_time": "2025-04-10T14:29:59.359009Z",
     "start_time": "2025-04-10T13:27:35.418399Z"
    }
   },
   "outputs": [],
   "source": [
    "DGMM.envolve(30)"
   ]
  }
 ],
 "metadata": {
  "kernelspec": {
   "display_name": "dgmm",
   "language": "python",
   "name": "dgmm"
  },
  "language_info": {
   "codemirror_mode": {
    "name": "ipython",
    "version": 3
   },
   "file_extension": ".py",
   "mimetype": "text/x-python",
   "name": "python",
   "nbconvert_exporter": "python",
   "pygments_lexer": "ipython3",
   "version": "3.12.9"
  }
 },
 "nbformat": 4,
 "nbformat_minor": 5
}
