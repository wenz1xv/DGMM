{
 "cells": [
  {
   "cell_type": "markdown",
   "id": "3c4dd4b1",
   "metadata": {},
   "source": [
    "# SELFIES"
   ]
  },
  {
   "cell_type": "code",
   "execution_count": null,
   "id": "b17e1ac6",
   "metadata": {
    "ExecuteTime": {
     "end_time": "2024-11-19T01:35:59.119306Z",
     "start_time": "2024-11-19T01:35:56.417533Z"
    }
   },
   "outputs": [],
   "source": [
    "# load data\n",
    "import pickle\n",
    "import tensorflow as tf\n",
    "import pandas as pd\n",
    "from tensorflow.data import Dataset\n",
    "from DGMM_utils import getlabels, get_fp\n",
    "\n",
    "tf.random.set_seed(358)\n",
    "\n",
    "train_size = 80000\n",
    "test_size = 8000\n",
    "batch_size = 16\n",
    "pad_to_len = 80\n",
    "\n",
    "def get_ds(train_data, test_data):\n",
    "    inp_train = getlabels(train_data['sfi'].values, pad_to_len)\n",
    "    inp_fp = get_fp(train_data['smiles'])\n",
    "    train_ds = Dataset.from_tensor_slices((inp_train, inp_fp))\n",
    "    train_ds = train_ds.batch(batch_size)\n",
    "    inp_test = getlabels(test_data['sfi'].values, pad_to_len)\n",
    "    test_fp = get_fp(test_data['smiles'])\n",
    "    test_ds = Dataset.from_tensor_slices((inp_test, test_fp))\n",
    "    test_ds = test_ds.batch(batch_size)\n",
    "    print(f'load train set: {len(train_data)} mols, test set {len(test_data)} mols.')\n",
    "    return train_ds, test_ds"
   ]
  },
  {
   "cell_type": "code",
   "execution_count": 14,
   "id": "049c1c54",
   "metadata": {
    "ExecuteTime": {
     "end_time": "2024-11-19T01:52:12.474420Z",
     "start_time": "2024-11-19T01:52:10.582193Z"
    }
   },
   "outputs": [
    {
     "name": "stdout",
     "output_type": "stream",
     "text": [
      "load train set: 800 mols, test set 800 mols.\n"
     ]
    }
   ],
   "source": [
    "# df = pd.read_hdf('data/zinc_train_ext.h5')\n",
    "df = pd.read_hdf('data/zinc_train.h5')\n",
    "\n",
    "train_df = df[df['split']=='train']\n",
    "test_df = df[df['split']=='test']\n",
    "\n",
    "if len(train_df) > train_size:\n",
    "    train_df = train_df.sample(n=train_size)\n",
    "if len(test_df) > test_size:\n",
    "    test_df = test_df.sample(n=test_size)\n",
    "train_ds, test_ds = get_ds(train_df, test_df)"
   ]
  },
  {
   "cell_type": "code",
   "execution_count": null,
   "id": "b4207332",
   "metadata": {
    "ExecuteTime": {
     "end_time": "2024-11-19T01:36:23.666981Z",
     "start_time": "2024-11-19T01:36:22.198861Z"
    },
    "code_folding": []
   },
   "outputs": [],
   "source": [
    "import numpy as np\n",
    "import tensorflow as tf\n",
    "from tensorflow import keras\n",
    "from tensorflow.keras import Model, layers\n",
    "from tensorflow.keras.models import load_model\n",
    "from DGMM_utils import TVAE\n",
    "    \n",
    "class lrScheduler(keras.callbacks.Callback):\n",
    "    def __init__(self, ep=2, verbose=0):\n",
    "        super(lrScheduler, self).__init__()\n",
    "        self.verbose = verbose\n",
    "        self.ep = ep\n",
    "\n",
    "    def on_epoch_begin(self, epoch, logs=None):\n",
    "        lr = float(keras.backend.get_value(self.model.optimizer.lr))\n",
    "        ak = float(keras.backend.get_value(self.model.ak))\n",
    "        if epoch > self.ep:\n",
    "            lr = lr * tf.math.exp(-0.1)\n",
    "            if ak > 1e-3:\n",
    "                ak = 1e-4\n",
    "            else:\n",
    "                self.model.ak = ak + 1e-4\n",
    "            self.model.ak = ak\n",
    "            keras.backend.set_value(self.model.optimizer.lr, keras.backend.get_value(lr))\n",
    "\n",
    "    def on_epoch_end(self, epoch, logs=None):\n",
    "        logs = logs or {}\n",
    "        logs['lr'] = keras.backend.get_value(self.model.optimizer.lr)\n",
    "        logs['ak'] = keras.backend.get_value(self.model.ak)\n",
    "        \n",
    "checkpoint = keras.callbacks.ModelCheckpoint('model/test/DGMM_sfi', monitor='loss', verbose=1, save_best_only=True)\n",
    "callbacks=[keras.callbacks.TerminateOnNaN(), lrScheduler(), checkpoint]\n",
    "model = TVAE(pad_to_len, ak=1e-4, lr=1e-3)\n",
    "model.compile()"
   ]
  },
  {
   "cell_type": "code",
   "execution_count": 10,
   "id": "37dcb840",
   "metadata": {
    "ExecuteTime": {
     "end_time": "2024-11-07T01:24:51.469100Z",
     "start_time": "2024-11-06T12:32:38.311387Z"
    },
    "scrolled": true
   },
   "outputs": [
    {
     "name": "stdout",
     "output_type": "stream",
     "text": [
      "Epoch 1/6\n",
      "50000/50000 [==============================] - ETA: 0s - loss: 1.1727 - acc: 0.7868 - kl_loss: 234.6801 - fp_loss: 0.2549 - total_loss: 1.6450\n",
      "Epoch 1: loss improved from inf to 0.92860, saving model to vae/GDMM_1106_sfi\n",
      "50000/50000 [==============================] - 7971s 159ms/step - loss: 1.1727 - acc: 0.7868 - kl_loss: 234.6801 - fp_loss: 0.2549 - total_loss: 1.6450 - val_loss: 32.0622 - val_fp_loss: 0.2206 - val_acc: 0.8675 - lr: 0.0010 - ak: 1.0000e-04\n",
      "Epoch 2/6\n",
      "50000/50000 [==============================] - ETA: 0s - loss: 0.5965 - acc: 0.8850 - kl_loss: 252.7894 - fp_loss: 0.1968 - total_loss: 1.1741\n",
      "Epoch 2: loss improved from 0.92860 to 0.54948, saving model to vae/GDMM_1106_sfi\n",
      "50000/50000 [==============================] - 7643s 153ms/step - loss: 0.5965 - acc: 0.8850 - kl_loss: 252.7894 - fp_loss: 0.1968 - total_loss: 1.1741 - val_loss: 21.9893 - val_fp_loss: 0.1846 - val_acc: 0.9081 - lr: 0.0010 - ak: 1.0000e-04\n",
      "Epoch 3/6\n",
      "50000/50000 [==============================] - ETA: 0s - loss: 0.4446 - acc: 0.9140 - kl_loss: 252.8082 - fp_loss: 0.1741 - total_loss: 0.9849\n",
      "Epoch 3: loss improved from 0.54948 to 0.42166, saving model to vae/GDMM_1106_sfi\n",
      "50000/50000 [==============================] - 7699s 154ms/step - loss: 0.4446 - acc: 0.9140 - kl_loss: 252.8082 - fp_loss: 0.1741 - total_loss: 0.9849 - val_loss: 17.2008 - val_fp_loss: 0.1673 - val_acc: 0.9274 - lr: 0.0010 - ak: 1.0000e-04\n",
      "Epoch 4/6\n",
      "50000/50000 [==============================] - ETA: 0s - loss: 0.3488 - acc: 0.9322 - kl_loss: 254.2966 - fp_loss: 0.1593 - total_loss: 0.8686\n",
      "Epoch 4: loss improved from 0.42166 to 0.33604, saving model to vae/GDMM_1106_sfi\n",
      "50000/50000 [==============================] - 7626s 153ms/step - loss: 0.3488 - acc: 0.9322 - kl_loss: 254.2966 - fp_loss: 0.1593 - total_loss: 0.8686 - val_loss: 14.1038 - val_fp_loss: 0.1535 - val_acc: 0.9409 - lr: 9.0484e-04 - ak: 1.0000e-04\n",
      "Epoch 5/6\n",
      "50000/50000 [==============================] - ETA: 0s - loss: 0.2882 - acc: 0.9440 - kl_loss: 256.6286 - fp_loss: 0.1505 - total_loss: 0.7855\n",
      "Epoch 5: loss improved from 0.33604 to 0.28010, saving model to vae/GDMM_1106_sfi\n",
      "50000/50000 [==============================] - 7707s 154ms/step - loss: 0.2882 - acc: 0.9440 - kl_loss: 256.6286 - fp_loss: 0.1505 - total_loss: 0.7855 - val_loss: 13.0738 - val_fp_loss: 0.1519 - val_acc: 0.9461 - lr: 8.1873e-04 - ak: 1.0000e-04\n",
      "Epoch 6/6\n",
      "50000/50000 [==============================] - ETA: 0s - loss: 0.2455 - acc: 0.9522 - kl_loss: 258.9103 - fp_loss: 0.1441 - total_loss: 0.7224\n",
      "Epoch 6: loss improved from 0.28010 to 0.24019, saving model to vae/GDMM_1106_sfi\n",
      "50000/50000 [==============================] - 7687s 154ms/step - loss: 0.2455 - acc: 0.9522 - kl_loss: 258.9103 - fp_loss: 0.1441 - total_loss: 0.7224 - val_loss: 10.2238 - val_fp_loss: 0.1403 - val_acc: 0.9575 - lr: 7.4082e-04 - ak: 1.0000e-04\n"
     ]
    }
   ],
   "source": [
    "his = model.fit(train_ds, validation_data=test_ds, epochs=6, callbacks=callbacks,use_multiprocessing=True, workers=10)"
   ]
  },
  {
   "cell_type": "code",
   "execution_count": 11,
   "id": "51b8b3ce",
   "metadata": {
    "ExecuteTime": {
     "end_time": "2024-11-07T06:03:33.781422Z",
     "start_time": "2024-11-07T03:55:55.774005Z"
    }
   },
   "outputs": [
    {
     "name": "stdout",
     "output_type": "stream",
     "text": [
      "50000/50000 [==============================] - ETA: 0s - loss: 0.2270 - acc: 0.9560 - kl_loss: 260.7519 - fp_loss: 0.1401 - total_loss: 0.6735\n",
      "Epoch 1: loss improved from 0.24019 to 0.22342, saving model to vae/GDMM_1106_sfi\n",
      "50000/50000 [==============================] - 7658s 153ms/step - loss: 0.2270 - acc: 0.9560 - kl_loss: 260.7519 - fp_loss: 0.1401 - total_loss: 0.6735 - val_loss: 10.6015 - val_fp_loss: 0.1396 - val_acc: 0.9559 - lr: 7.4082e-04 - ak: 1.0000e-04\n"
     ]
    }
   ],
   "source": [
    "his = model.fit(train_ds, validation_data=test_ds, epochs=1, callbacks=callbacks,use_multiprocessing=True, workers=10)"
   ]
  },
  {
   "cell_type": "code",
   "execution_count": null,
   "id": "ff692806",
   "metadata": {
    "ExecuteTime": {
     "end_time": "2024-11-19T02:09:35.208055Z",
     "start_time": "2024-11-19T02:09:30.423832Z"
    }
   },
   "outputs": [],
   "source": [
    "from DGMM_utils import generateTrainDecoder\n",
    "generateTrainDecoder('model/test/DGMM_sfi_decoder.h5', 'model/test/DGMM_sfi_decoder_nosoftmax.h5', latent_dim=80)"
   ]
  },
  {
   "cell_type": "markdown",
   "id": "e9b36030",
   "metadata": {},
   "source": [
    "# SELFIES Test"
   ]
  },
  {
   "cell_type": "code",
   "execution_count": 111,
   "id": "4b1ccfa1",
   "metadata": {
    "ExecuteTime": {
     "end_time": "2024-11-19T02:44:10.861798Z",
     "start_time": "2024-11-19T02:44:10.849633Z"
    }
   },
   "outputs": [],
   "source": [
    "import selfies as sf\n",
    "import numpy as np\n",
    "from DGMM_utils import alphabet, chars\n",
    "\n",
    "def pro2sfi(data):\n",
    "    res = []\n",
    "    for s in data:\n",
    "        sfi = ''\n",
    "        for j in s:\n",
    "            idx = np.random.choice(np.arange(len(alphabet)), p=j)\n",
    "            token = alphabet[idx]\n",
    "            if alphabet[idx].find(\"[nop]\") > -1:\n",
    "                break\n",
    "            sfi+=token\n",
    "        res.append(sfi)\n",
    "    return res\n",
    "\n",
    "def pro2smi(data, attempts=1000):\n",
    "    res = []\n",
    "    for y_pred in data:\n",
    "        atmp = attempts\n",
    "        while atmp > 0:\n",
    "            atmp -= 1\n",
    "            smiles = ''\n",
    "            for p in y_pred:\n",
    "                idx = np.random.choice(np.arange(len(chars)+2), p=p)\n",
    "                if idx == 0 or idx == len(chars)+1:\n",
    "                    break\n",
    "                token = chars[idx-1]\n",
    "                smiles+=token\n",
    "            try:\n",
    "                mol = Chem.MolFromSmiles(smiles)\n",
    "                smiles = Chem.MolToSmiles(mol, canonical=True)\n",
    "                assert len(smiles) > 1\n",
    "                res.append(smiles)\n",
    "                atmp = -1\n",
    "            except:\n",
    "                pass\n",
    "        if atmp != -1:\n",
    "            res.append('')\n",
    "    return res"
   ]
  },
  {
   "cell_type": "code",
   "execution_count": 38,
   "id": "58d574be",
   "metadata": {
    "ExecuteTime": {
     "end_time": "2024-11-19T02:20:17.953013Z",
     "start_time": "2024-11-19T02:20:16.662017Z"
    }
   },
   "outputs": [],
   "source": [
    "from tensorflow.keras.models import load_model\n",
    "from DGMM_utils import Sampling\n",
    "# from keras.models import load_model\n",
    "encoder = load_model(f'model/TVAE/DGMM_sfi_encoder.h5', custom_objects={'Sampling':Sampling})\n",
    "decoder = load_model(f'model/TVAE/DGMM_sfi_decoder.h5')"
   ]
  },
  {
   "cell_type": "code",
   "execution_count": 49,
   "id": "31fa5897",
   "metadata": {
    "ExecuteTime": {
     "end_time": "2024-11-19T02:21:06.794231Z",
     "start_time": "2024-11-19T02:21:06.765917Z"
    }
   },
   "outputs": [
    {
     "data": {
      "image/png": "[encoded data removed]",
      "text/plain": [
       "<rdkit.Chem.rdchem.Mol at 0x70e894329cf0>"
      ]
     },
     "execution_count": 49,
     "metadata": {},
     "output_type": "execute_result"
    }
   ],
   "source": [
    "from rdkit import Chem\n",
    "import pandas as pd\n",
    "df = pd.read_hdf('data/zinc_train.h5')\n",
    "\n",
    "sfi = df.sample(n=10)['sfi'].values\n",
    "Chem.MolFromSmiles(sf.decoder(sfi[0]))"
   ]
  },
  {
   "cell_type": "code",
   "execution_count": 50,
   "id": "c8b0b29e",
   "metadata": {
    "ExecuteTime": {
     "end_time": "2024-11-19T02:21:10.395633Z",
     "start_time": "2024-11-19T02:21:10.128513Z"
    }
   },
   "outputs": [
    {
     "name": "stdout",
     "output_type": "stream",
     "text": [
      "1/1 [==============================] - 0s 75ms/step\n",
      "1/1 [==============================] - 0s 67ms/step\n"
     ]
    }
   ],
   "source": [
    "from DGMM_utils import getlabels\n",
    "label = getlabels(sfi)\n",
    "latent = encoder.predict(label, verbose=1)\n",
    "pred = decoder.predict(latent[2], verbose=1)\n",
    "res = pred[0]"
   ]
  },
  {
   "cell_type": "code",
   "execution_count": 51,
   "id": "326291c7",
   "metadata": {
    "ExecuteTime": {
     "end_time": "2024-11-19T02:21:11.548928Z",
     "start_time": "2024-11-19T02:21:11.508314Z"
    },
    "scrolled": true
   },
   "outputs": [
    {
     "data": {
      "image/png": "[encoded data removed]",
      "text/plain": [
       "<rdkit.Chem.rdchem.Mol at 0x70e95dee0930>"
      ]
     },
     "execution_count": 51,
     "metadata": {},
     "output_type": "execute_result"
    }
   ],
   "source": [
    "smi = sf.decoder(pro2sfi(res)[0])\n",
    "Chem.MolFromSmiles(smi)"
   ]
  },
  {
   "cell_type": "markdown",
   "id": "0986181c",
   "metadata": {},
   "source": [
    "# SMILES"
   ]
  },
  {
   "cell_type": "code",
   "execution_count": 4,
   "id": "6b2b190f",
   "metadata": {
    "ExecuteTime": {
     "end_time": "2024-11-19T02:06:17.971880Z",
     "start_time": "2024-11-19T02:06:17.959853Z"
    },
    "code_folding": []
   },
   "outputs": [],
   "source": [
    "# load data\n",
    "import pandas as pd\n",
    "import tensorflow as tf\n",
    "from tensorflow.data import Dataset\n",
    "from DGMM_utils import getslabels, get_fp\n",
    "\n",
    "tf.random.set_seed(358)\n",
    "\n",
    "batch_size = 16\n",
    "train_size = 80000\n",
    "test_size = 8000\n",
    "pad_to_len = 80\n",
    "\n",
    "def get_ds_smi(train_data, test_data):\n",
    "    inp_train = getslabels(train_data['smiles'].values)\n",
    "    inp_fp = get_fp(train_data['smiles'])\n",
    "    train_ds = Dataset.from_tensor_slices((inp_train, inp_fp))\n",
    "    train_ds = train_ds.batch(batch_size)\n",
    "    inp_test = getslabels(test_data['smiles'].values)\n",
    "    test_fp = get_fp(test_data['smiles'])\n",
    "    test_ds = Dataset.from_tensor_slices((inp_test, test_fp))\n",
    "    test_ds = test_ds.batch(batch_size)\n",
    "    print(f'load train set: {len(train_data)} mols, test set {len(test_data)} mols.')\n",
    "    return train_ds, test_ds"
   ]
  },
  {
   "cell_type": "code",
   "execution_count": null,
   "id": "3f26eddc",
   "metadata": {
    "ExecuteTime": {
     "end_time": "2024-11-19T02:06:38.359967Z",
     "start_time": "2024-11-19T02:06:29.879913Z"
    }
   },
   "outputs": [],
   "source": [
    "# df = pd.read_hdf('data/zinc_train_ext.h5')\n",
    "df = pd.read_hdf('data/zinc_train.h5')\n",
    "\n",
    "train_df = df[df['split']=='train']\n",
    "test_df = df[df['split']=='test']\n",
    "train_df = train_df[train_df['smiles'].str.len()<80]\n",
    "test_df = test_df[test_df['smiles'].str.len()<80]\n",
    "\n",
    "if len(train_df) > train_size:\n",
    "    train_df = train_df.sample(n=train_size)\n",
    "if len(test_df) > test_size:\n",
    "    test_df = test_df.sample(n=test_size)\n",
    "train_ds, test_ds = get_ds_smi(train_df, test_df)"
   ]
  },
  {
   "cell_type": "code",
   "execution_count": 8,
   "id": "85582a5f",
   "metadata": {
    "ExecuteTime": {
     "end_time": "2024-11-19T02:08:12.721341Z",
     "start_time": "2024-11-19T02:08:10.688953Z"
    },
    "code_folding": []
   },
   "outputs": [],
   "source": [
    "import numpy as np\n",
    "import tensorflow as tf\n",
    "from tensorflow import keras\n",
    "from tensorflow.keras import Model, layers\n",
    "from tensorflow.keras.models import load_model\n",
    "from DGMM_utils import TVAEsmi\n",
    "\n",
    "    \n",
    "class lrScheduler(keras.callbacks.Callback):\n",
    "    def __init__(self, ep=2, verbose=0):\n",
    "        super(lrScheduler, self).__init__()\n",
    "        self.verbose = verbose\n",
    "        self.ep = ep\n",
    "\n",
    "    def on_epoch_begin(self, epoch, logs=None):\n",
    "        lr = float(keras.backend.get_value(self.model.optimizer.lr))\n",
    "        ak = float(keras.backend.get_value(self.model.ak))\n",
    "        if epoch > self.ep:\n",
    "            lr = lr * tf.math.exp(-0.1)\n",
    "            if ak > 1e-3:\n",
    "                ak = 1e-4\n",
    "            else:\n",
    "                self.model.ak = ak + 1e-4\n",
    "            self.model.ak = ak\n",
    "            keras.backend.set_value(self.model.optimizer.lr, keras.backend.get_value(lr))\n",
    "\n",
    "    def on_epoch_end(self, epoch, logs=None):\n",
    "        logs = logs or {}\n",
    "        logs['lr'] = keras.backend.get_value(self.model.optimizer.lr)\n",
    "        logs['ak'] = keras.backend.get_value(self.model.ak)\n",
    "\n",
    "checkpoint = keras.callbacks.ModelCheckpoint('model/test/DGMM_smi', monitor='loss', verbose=1, save_best_only=True)\n",
    "callbacks=[keras.callbacks.TerminateOnNaN(), lrScheduler(), checkpoint]\n",
    "model1 = TVAEsmi(pad_to_len, ak=1e-4, lr=1e-3)\n",
    "model1.compile()"
   ]
  },
  {
   "cell_type": "code",
   "execution_count": 67,
   "id": "d658856c",
   "metadata": {
    "ExecuteTime": {
     "end_time": "2024-11-07T20:40:17.248758Z",
     "start_time": "2024-11-07T08:16:20.559001Z"
    },
    "scrolled": true
   },
   "outputs": [
    {
     "name": "stdout",
     "output_type": "stream",
     "text": [
      "Epoch 1/6\n",
      "49978/49978 [==============================] - ETA: 0s - loss: 0.8835 - acc: 0.7114 - kl_loss: 234.0630 - fp_loss: 0.2376 - total_loss: 1.2011\n",
      "Epoch 1: loss improved from inf to 0.61015, saving model to vae/GDMM_1106_smi\n",
      "49978/49978 [==============================] - 7434s 149ms/step - loss: 0.8835 - acc: 0.7114 - kl_loss: 234.0630 - fp_loss: 0.2376 - total_loss: 1.2011 - val_loss: 28.5498 - val_fp_loss: 0.1763 - val_acc: 0.8775 - lr: 0.0010 - ak: 1.0000e-04\n",
      "Epoch 2/6\n",
      "49978/49978 [==============================] - ETA: 0s - loss: 0.3186 - acc: 0.8908 - kl_loss: 267.2300 - fp_loss: 0.1558 - total_loss: 0.7597\n",
      "Epoch 2: loss improved from 0.61015 to 0.29031, saving model to vae/GDMM_1106_smi\n",
      "49978/49978 [==============================] - 7436s 149ms/step - loss: 0.3186 - acc: 0.8908 - kl_loss: 267.2300 - fp_loss: 0.1558 - total_loss: 0.7597 - val_loss: 20.7614 - val_fp_loss: 0.1448 - val_acc: 0.9126 - lr: 0.0010 - ak: 1.0000e-04\n",
      "Epoch 3/6\n",
      "49978/49978 [==============================] - ETA: 0s - loss: 0.2320 - acc: 0.9214 - kl_loss: 267.8158 - fp_loss: 0.1290 - total_loss: 0.6200\n",
      "Epoch 3: loss improved from 0.29031 to 0.22026, saving model to vae/GDMM_1106_smi\n",
      "49978/49978 [==============================] - 7444s 149ms/step - loss: 0.2320 - acc: 0.9214 - kl_loss: 267.8158 - fp_loss: 0.1290 - total_loss: 0.6200 - val_loss: 17.5549 - val_fp_loss: 0.1194 - val_acc: 0.9275 - lr: 0.0010 - ak: 1.0000e-04\n",
      "Epoch 4/6\n",
      "49978/49978 [==============================] - ETA: 0s - loss: 0.1801 - acc: 0.9394 - kl_loss: 265.5547 - fp_loss: 0.1122 - total_loss: 0.5397\n",
      "Epoch 4: loss improved from 0.22026 to 0.17334, saving model to vae/GDMM_1106_smi\n",
      "49978/49978 [==============================] - 7431s 149ms/step - loss: 0.1801 - acc: 0.9394 - kl_loss: 265.5547 - fp_loss: 0.1122 - total_loss: 0.5397 - val_loss: 13.2015 - val_fp_loss: 0.1119 - val_acc: 0.9450 - lr: 9.0484e-04 - ak: 1.0000e-04\n",
      "Epoch 5/6\n",
      "49978/49978 [==============================] - ETA: 0s - loss: 0.1476 - acc: 0.9506 - kl_loss: 263.8391 - fp_loss: 0.1023 - total_loss: 0.4841\n",
      "Epoch 5: loss improved from 0.17334 to 0.14335, saving model to vae/GDMM_1106_smi\n",
      "49978/49978 [==============================] - 7425s 149ms/step - loss: 0.1476 - acc: 0.9506 - kl_loss: 263.8391 - fp_loss: 0.1023 - total_loss: 0.4841 - val_loss: 10.8533 - val_fp_loss: 0.0992 - val_acc: 0.9546 - lr: 8.1873e-04 - ak: 1.0000e-04\n",
      "Epoch 6/6\n",
      "49978/49978 [==============================] - ETA: 0s - loss: 0.1247 - acc: 0.9583 - kl_loss: 262.4829 - fp_loss: 0.0950 - total_loss: 0.4427\n",
      "Epoch 6: loss improved from 0.14335 to 0.12179, saving model to vae/GDMM_1106_smi\n",
      "49978/49978 [==============================] - 7466s 149ms/step - loss: 0.1247 - acc: 0.9583 - kl_loss: 262.4829 - fp_loss: 0.0950 - total_loss: 0.4427 - val_loss: 9.2861 - val_fp_loss: 0.0936 - val_acc: 0.9613 - lr: 7.4082e-04 - ak: 1.0000e-04\n"
     ]
    }
   ],
   "source": [
    "his = model1.fit(train_ds, validation_data=test_ds, epochs=6, callbacks=callbacks,use_multiprocessing=True, workers=10)"
   ]
  },
  {
   "cell_type": "code",
   "execution_count": 68,
   "id": "4f18db0a",
   "metadata": {
    "ExecuteTime": {
     "end_time": "2024-11-08T05:19:32.468608Z",
     "start_time": "2024-11-08T01:09:55.385911Z"
    }
   },
   "outputs": [
    {
     "name": "stdout",
     "output_type": "stream",
     "text": [
      "Epoch 1/2\n",
      "49978/49978 [==============================] - ETA: 0s - loss: 0.1149 - acc: 0.9618 - kl_loss: 262.2726 - fp_loss: 0.0905 - total_loss: 0.4108\n",
      "Epoch 1: loss improved from 0.12179 to 0.11299, saving model to vae/GDMM_1106_smi\n",
      "49978/49978 [==============================] - 7477s 150ms/step - loss: 0.1149 - acc: 0.9618 - kl_loss: 262.2726 - fp_loss: 0.0905 - total_loss: 0.4108 - val_loss: 9.1687 - val_fp_loss: 0.0906 - val_acc: 0.9622 - lr: 7.4082e-04 - ak: 1.0000e-04\n",
      "Epoch 2/2\n",
      "49978/49978 [==============================] - ETA: 0s - loss: 0.1078 - acc: 0.9643 - kl_loss: 262.3561 - fp_loss: 0.0873 - total_loss: 0.3859\n",
      "Epoch 2: loss improved from 0.11299 to 0.10623, saving model to vae/GDMM_1106_smi\n",
      "49978/49978 [==============================] - 7500s 150ms/step - loss: 0.1078 - acc: 0.9643 - kl_loss: 262.3561 - fp_loss: 0.0873 - total_loss: 0.3859 - val_loss: 8.3492 - val_fp_loss: 0.0898 - val_acc: 0.9656 - lr: 7.4082e-04 - ak: 1.0000e-04\n"
     ]
    }
   ],
   "source": [
    "his = model1.fit(train_ds, validation_data=test_ds, epochs=2, callbacks=callbacks,use_multiprocessing=True, workers=10)"
   ]
  },
  {
   "cell_type": "code",
   "execution_count": 69,
   "id": "8918630a",
   "metadata": {
    "ExecuteTime": {
     "end_time": "2024-11-08T09:33:42.342691Z",
     "start_time": "2024-11-08T05:20:01.114270Z"
    }
   },
   "outputs": [
    {
     "name": "stdout",
     "output_type": "stream",
     "text": [
      "Epoch 1/2\n",
      "49978/49978 [==============================] - ETA: 0s - loss: 0.1025 - acc: 0.9662 - kl_loss: 262.8047 - fp_loss: 0.0849 - total_loss: 0.3659\n",
      "Epoch 1: loss improved from 0.10623 to 0.10141, saving model to vae/GDMM_1106_smi\n",
      "49978/49978 [==============================] - 7483s 150ms/step - loss: 0.1025 - acc: 0.9662 - kl_loss: 262.8047 - fp_loss: 0.0849 - total_loss: 0.3659 - val_loss: 8.6184 - val_fp_loss: 0.0865 - val_acc: 0.9652 - lr: 7.4082e-04 - ak: 1.0000e-04\n",
      "Epoch 2/2\n",
      "49978/49978 [==============================] - ETA: 0s - loss: 0.0984 - acc: 0.9677 - kl_loss: 262.5767 - fp_loss: 0.0828 - total_loss: 0.3494\n",
      "Epoch 2: loss improved from 0.10141 to 0.09749, saving model to vae/GDMM_1106_smi\n",
      "49978/49978 [==============================] - 7738s 155ms/step - loss: 0.0984 - acc: 0.9677 - kl_loss: 262.5767 - fp_loss: 0.0828 - total_loss: 0.3494 - val_loss: 7.3738 - val_fp_loss: 0.0817 - val_acc: 0.9698 - lr: 7.4082e-04 - ak: 1.0000e-04\n"
     ]
    }
   ],
   "source": [
    "his = model1.fit(train_ds, validation_data=test_ds, epochs=2, callbacks=callbacks,use_multiprocessing=True, workers=10)"
   ]
  },
  {
   "cell_type": "code",
   "execution_count": 73,
   "id": "b6838f10",
   "metadata": {
    "ExecuteTime": {
     "end_time": "2024-11-19T02:29:32.872421Z",
     "start_time": "2024-11-19T02:29:31.582168Z"
    }
   },
   "outputs": [],
   "source": [
    "from tensorflow.keras.models import load_model\n",
    "from DGMM_utils import Sampling\n",
    "# from keras.models import load_model\n",
    "encoder = load_model(f'model/TVAE/DGMM_smi_encoder.h5', custom_objects={'Sampling':Sampling})\n",
    "decoder = load_model(f'model/TVAE/DGMM_smi_decoder.h5')"
   ]
  },
  {
   "cell_type": "markdown",
   "id": "c881f0a8",
   "metadata": {},
   "source": [
    "# SMILES test"
   ]
  },
  {
   "cell_type": "code",
   "execution_count": 116,
   "id": "7afb75fe",
   "metadata": {
    "ExecuteTime": {
     "end_time": "2024-11-19T02:44:48.426298Z",
     "start_time": "2024-11-19T02:44:48.398396Z"
    }
   },
   "outputs": [
    {
     "data": {
      "image/png": "[encoded data removed]",
      "text/plain": [
       "<rdkit.Chem.rdchem.Mol at 0x70e88ef63e10>"
      ]
     },
     "execution_count": 116,
     "metadata": {},
     "output_type": "execute_result"
    }
   ],
   "source": [
    "from rdkit import Chem\n",
    "import pandas as pd\n",
    "df = pd.read_hdf('data/zinc_train.h5')\n",
    "\n",
    "smi = df.sample(n=10)['smiles'].values\n",
    "Chem.MolFromSmiles(smi[0])"
   ]
  },
  {
   "cell_type": "code",
   "execution_count": 114,
   "id": "76927755",
   "metadata": {
    "ExecuteTime": {
     "end_time": "2024-11-19T02:44:32.992017Z",
     "start_time": "2024-11-19T02:44:32.780345Z"
    }
   },
   "outputs": [
    {
     "name": "stdout",
     "output_type": "stream",
     "text": [
      "1/1 [==============================] - 0s 62ms/step\n",
      "1/1 [==============================] - 0s 56ms/step\n"
     ]
    }
   ],
   "source": [
    "from DGMM_utils import getslabels\n",
    "label = getslabels(smi)\n",
    "latent = encoder.predict(label, verbose=1)\n",
    "pred = decoder.predict(latent[2], verbose=1)\n",
    "res = pred[0]"
   ]
  },
  {
   "cell_type": "code",
   "execution_count": 115,
   "id": "85e9f0ea",
   "metadata": {
    "ExecuteTime": {
     "end_time": "2024-11-19T02:44:42.953452Z",
     "start_time": "2024-11-19T02:44:34.084666Z"
    }
   },
   "outputs": [
    {
     "data": {
      "text/plain": [
       "['COCS(=O)c1cccc(Cc2c(OC)ccc3ccccc23)c1',\n",
       " 'CNOc1cc(Cl)c(NC(=O)NCc2ccc3c(c2)OCO3)c(OOSO)c1Cl',\n",
       " 'COc1cc(C)c(CCCC(=O)Nc2ccnc(C)n2)c(Cl)c1',\n",
       " 'C[C@H](Sc1nc(CNCO)no1)C1CCCNCC(c2ccccc2Cl)CCC1',\n",
       " '',\n",
       " '',\n",
       " '',\n",
       " 'COC1=C(CNCCC=CSc2ccccc2C2C=CC(=O)C(CCc3ccccc3)=C2)C(C)=N1',\n",
       " 'O=C(N[C@@H]1CCN(c2ncccc2Cl)C1)C1C(Cl)=CN=C1c1cccc(F)c1',\n",
       " '']"
      ]
     },
     "execution_count": 115,
     "metadata": {},
     "output_type": "execute_result"
    }
   ],
   "source": [
    "pro2smi(res)"
   ]
  },
  {
   "cell_type": "code",
   "execution_count": 117,
   "id": "9e15bf76",
   "metadata": {
    "ExecuteTime": {
     "end_time": "2024-11-19T02:44:56.710004Z",
     "start_time": "2024-11-19T02:44:56.688356Z"
    }
   },
   "outputs": [
    {
     "data": {
      "image/png": "[encoded data removed]",
      "text/plain": [
       "<rdkit.Chem.rdchem.Mol at 0x70e88ef63450>"
      ]
     },
     "execution_count": 117,
     "metadata": {},
     "output_type": "execute_result"
    }
   ],
   "source": [
    "Chem.MolFromSmiles('COCS(=O)c1cccc(Cc2c(OC)ccc3ccccc23)c1')"
   ]
  },
  {
   "cell_type": "code",
   "execution_count": null,
   "id": "9f71837c",
   "metadata": {},
   "outputs": [],
   "source": []
  }
 ],
 "metadata": {
  "kernelspec": {
   "display_name": "Python 3",
   "language": "python",
   "name": "python3"
  },
  "language_info": {
   "codemirror_mode": {
    "name": "ipython",
    "version": 3
   },
   "file_extension": ".py",
   "mimetype": "text/x-python",
   "name": "python",
   "nbconvert_exporter": "python",
   "pygments_lexer": "ipython3",
   "version": "3.7.12"
  }
 },
 "nbformat": 4,
 "nbformat_minor": 5
}
