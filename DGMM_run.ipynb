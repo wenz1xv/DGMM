{
 "cells": [
  {
   "cell_type": "markdown",
   "id": "3979e66b",
   "metadata": {
    "ExecuteTime": {
     "end_time": "2024-11-18T08:00:58.286914Z",
     "start_time": "2024-11-18T08:00:58.282047Z"
    }
   },
   "source": [
    "# Docking Protocol"
   ]
  },
  {
   "cell_type": "code",
   "execution_count": 1,
   "id": "e2a5ada4",
   "metadata": {
    "ExecuteTime": {
     "end_time": "2024-11-18T08:05:04.744532Z",
     "start_time": "2024-11-18T08:05:04.292751Z"
    }
   },
   "outputs": [
    {
     "data": {
      "text/plain": [
       "[-7.168]"
      ]
     },
     "execution_count": 1,
     "metadata": {},
     "output_type": "execute_result"
    }
   ],
   "source": [
    "from dock_comp import vina_dock\n",
    "vina_dock('S=C1Sc2cc(Br)ccc2C2=NCCCN12', 'rock2_4wot')"
   ]
  },
  {
   "cell_type": "code",
   "execution_count": 2,
   "id": "b6a8a423",
   "metadata": {
    "ExecuteTime": {
     "end_time": "2024-11-18T08:00:49.042745Z",
     "start_time": "2024-11-18T07:59:56.600249Z"
    }
   },
   "outputs": [
    {
     "name": "stdout",
     "output_type": "stream",
     "text": [
      "jobid: dellt7920-0-673af3fd, waiting the job to finish.\n",
      "\"vsw_run\"           \tdellt7920-0-673af3fd\tfinished 2024-11-18-16:00:44 on dellt7920\n"
     ]
    },
    {
     "data": {
      "text/plain": [
       "[-5.65132057733984]"
      ]
     },
     "execution_count": 2,
     "metadata": {},
     "output_type": "execute_result"
    }
   ],
   "source": [
    "import os\n",
    "from dock_comp import schrodinger_dock\n",
    "os.environ['SCHRODINGER']=\"/opt/schrodinger2023-4\"\n",
    "schrodinger_dock('S=C1Sc2cc(Br)ccc2C2=NCCCN12', 'ROCK2_4WOT')"
   ]
  },
  {
   "cell_type": "markdown",
   "id": "4e8a8573",
   "metadata": {},
   "source": [
    "# Run DGMM"
   ]
  },
  {
   "cell_type": "code",
   "execution_count": null,
   "id": "9d307da0",
   "metadata": {
    "ExecuteTime": {
     "end_time": "2024-11-19T05:10:23.515262Z",
     "start_time": "2024-11-19T05:10:17.097665Z"
    },
    "scrolled": true
   },
   "outputs": [],
   "source": [
    "# Parameters and extra constraint config\n",
    "from DGMM_utils import DGMMmodel\n",
    "from rdkit import Chem, DataStructs\n",
    "\n",
    "# if using Schrodinger Dock Method\n",
    "import os\n",
    "os.environ['SCHRODINGER']=\"/opt/schrodinger2023-4\"\n",
    "\n",
    "SATHD=3.\n",
    "QEDTHD=0.4\n",
    "SIMTHD=0.2\n",
    "MAXTRYS=80\n",
    "\n",
    "def ex_constraint(mol):\n",
    "# ADD any structure preference here\n",
    "# Input: mol, rdkit mol object\n",
    "# Output: score, [0,1] values of molecule weights\n",
    "\n",
    "    score = 1.\n",
    "\n",
    "#For Example:\n",
    "#     afp = Chem.RDKFingerprint(Chem.MolFromSmiles('OCC(O)NCN(CCc1ccc(-c2ccncc2)cc1)c1ccccc1'))\n",
    "#     sim_score = DataStructs.TanimotoSimilarity(Chem.RDKFingerprint(mol), afp)\n",
    "#     score *= sim_score\n",
    "\n",
    "    return score\n",
    "\n",
    "####################\n",
    "#set the path to your model path#\n",
    "####################\n",
    "model_path = '/opt/jupyter/DGMM/model/'\n",
    "model_path = '/opt/jupyter/molmod/DGMM_github/DGMM/model/'\n",
    "####################\n",
    "\n",
    "# DGMM = DGMMmodel(model_path, dock_grids='rock2_6ed6', method='vina', vfactor=0.1, thread=10, discrete=True,\n",
    "#              qedthd=QEDTHD, sathd=SATHD, simthd=SIMTHD, popsize=80, ex_constraint=ex_constraint)\n",
    "\n",
    "\n",
    "# DGMM = DGMMmodel(model_path, dock_grids='ROCK2_6ED6', method='schrodinger', vfactor=0.1, thread=10, discrete=True,\n",
    "#              qedthd=QEDTHD, sathd=SATHD, simthd=SIMTHD, popsize=80, ex_constraint=ex_constraint)\n",
    "\n",
    "\n",
    "DGMM = DGMMmodel(model_path, dock_grids='ROCK2_6ED6', method='schrodinger', vfactor=0.5, thread=10, discrete=False,\n",
    "             qedthd=QEDTHD, sathd=SATHD, simthd=SIMTHD, popsize=80, ex_constraint=ex_constraint)"
   ]
  },
  {
   "cell_type": "code",
   "execution_count": null,
   "id": "7b3054c7",
   "metadata": {
    "ExecuteTime": {
     "end_time": "2024-11-19T05:10:33.309698Z",
     "start_time": "2024-11-19T05:10:33.110441Z"
    }
   },
   "outputs": [],
   "source": [
    "ga.reset('O=C(CCCCCCC(=O)NO)NO')"
   ]
  },
  {
   "cell_type": "code",
   "execution_count": null,
   "id": "ba3e9b42",
   "metadata": {
    "ExecuteTime": {
     "end_time": "2024-11-19T05:13:00.514044Z",
     "start_time": "2024-11-19T05:10:44.526882Z"
    }
   },
   "outputs": [],
   "source": [
    "ga.envolve(3)"
   ]
  },
  {
   "cell_type": "code",
   "execution_count": null,
   "id": "3d7560f6",
   "metadata": {},
   "outputs": [],
   "source": []
  }
 ],
 "metadata": {
  "kernelspec": {
   "display_name": "Python 3",
   "language": "python",
   "name": "python3"
  },
  "language_info": {
   "codemirror_mode": {
    "name": "ipython",
    "version": 3
   },
   "file_extension": ".py",
   "mimetype": "text/x-python",
   "name": "python",
   "nbconvert_exporter": "python",
   "pygments_lexer": "ipython3",
   "version": "3.7.12"
  }
 },
 "nbformat": 4,
 "nbformat_minor": 5
}
