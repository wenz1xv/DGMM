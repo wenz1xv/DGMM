{
 "cells": [
  {
   "cell_type": "code",
   "execution_count": null,
   "id": "9d307da0",
   "metadata": {
    "ExecuteTime": {
     "end_time": "2025-04-11T13:52:15.359083Z",
     "start_time": "2025-04-11T13:52:10.822300Z"
    },
    "scrolled": true
   },
   "outputs": [],
   "source": [
    "# Parameters and extra constraint config\n",
    "from DGMM_utils import DGMMmodel\n",
    "from rdkit import Chem, DataStructs\n",
    "\n",
    "SATHD=3.\n",
    "QEDTHD=0.5\n",
    "SIMTHD=0.4\n",
    "MAXTRYS=80\n",
    "\n",
    "def ex_constraint(mol):\n",
    "# ADD any structure preference here\n",
    "# Input: mol, rdkit mol object\n",
    "# Output: score, [0,1] values of molecule weights\n",
    "    score = 1.\n",
    "#For Example:\n",
    "#     afp = Chem.RDKFingerprint(Chem.MolFromSmiles('OCC(O)NCN(CCc1ccc(-c2ccncc2)cc1)c1ccccc1'))\n",
    "#     sim_score = DataStructs.TanimotoSimilarity(Chem.RDKFingerprint(mol), afp)\n",
    "#     score *= sim_score\n",
    "    return score\n",
    "\n",
    "####################\n",
    "#set the path to your model path#\n",
    "model_path = '/opt/jupyter/DGMM/model/'\n",
    "####################\n",
    "\n",
    "DGMM = DGMMmodel(model_path, dock_grids='HDAC8_5D1B', method='vina', vfactor=0.1, thread=10,\n",
    "             qedthd=QEDTHD, sathd=SATHD, simthd=SIMTHD, popsize=80, ex_constraint=ex_constraint, loglevel=-1)"
   ]
  },
  {
   "cell_type": "code",
   "execution_count": 2,
   "id": "7b3054c7",
   "metadata": {
    "ExecuteTime": {
     "end_time": "2025-04-10T14:38:03.137301Z",
     "start_time": "2025-04-10T14:38:02.656669Z"
    },
    "scrolled": true
   },
   "outputs": [
    {
     "name": "stdout",
     "output_type": "stream",
     "text": [
      "GA config:\n",
      " {\n",
      "  \"target\": \"HDAC8_5D1B\",\n",
      "  \"original\": \"O=c1cc(-c2ccccc2)oc2ccccc12\",\n",
      "  \"header\": \"\",\n",
      "  \"joined\": [],\n",
      "  \"egroup\": [],\n",
      "  \"popsize\": 80,\n",
      "  \"childsize\": 4,\n",
      "  \"genebatch\": 8,\n",
      "  \"vfactor\": 0.1,\n",
      "  \"compete\": false,\n",
      "  \"enhance\": 0,\n",
      "  \"EDmodel\": {\n",
      "    \"model\": \"/opt/jupyter/molmod/DGMM_github/DGMM/model/\",\n",
      "    \"maxtrys\": 80,\n",
      "    \"childsize\": 4,\n",
      "    \"MAXLEN\": 80\n",
      "  },\n",
      "  \"Filter\": {\n",
      "    \"sim\": 0.4,\n",
      "    \"qedthd\": 0.5,\n",
      "    \"sathd\": 3.0,\n",
      "    \"dock_grids\": [\n",
      "      \"HDAC8_5D1B\"\n",
      "    ],\n",
      "    \"sim_increase\": 0\n",
      "  },\n",
      "  \"path\": \"result\",\n",
      "  \"loglevel\": 0,\n",
      "  \"savepath\": \"result/HDAC8_5D1B_2025_0410_223802.json\"\n",
      "}\n",
      "init success\n"
     ]
    }
   ],
   "source": [
    "DGMM.reset('C1=CC=C(C=C1)C2=CC(=O)C3=CC=CC=C3O2')"
   ]
  },
  {
   "cell_type": "code",
   "execution_count": null,
   "id": "ba3e9b42",
   "metadata": {
    "ExecuteTime": {
     "end_time": "2025-04-10T19:36:07.163920Z",
     "start_time": "2025-04-10T14:38:03.139119Z"
    },
    "scrolled": true
   },
   "outputs": [],
   "source": [
    "DGMM.envolve(30)"
   ]
  }
 ],
 "metadata": {
  "kernelspec": {
   "display_name": "dgmm",
   "language": "python",
   "name": "dgmm"
  },
  "language_info": {
   "codemirror_mode": {
    "name": "ipython",
    "version": 3
   },
   "file_extension": ".py",
   "mimetype": "text/x-python",
   "name": "python",
   "nbconvert_exporter": "python",
   "pygments_lexer": "ipython3",
   "version": "3.12.9"
  }
 },
 "nbformat": 4,
 "nbformat_minor": 5
}
