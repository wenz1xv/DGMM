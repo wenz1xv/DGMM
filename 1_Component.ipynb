{
 "cells": [
  {
   "cell_type": "markdown",
   "id": "e7123a91",
   "metadata": {},
   "source": [
    "# Docking Component"
   ]
  },
  {
   "cell_type": "code",
   "execution_count": 1,
   "id": "da85d5ea",
   "metadata": {
    "ExecuteTime": {
     "end_time": "2025-04-09T04:03:20.642230Z",
     "start_time": "2025-04-09T04:03:20.634893Z"
    }
   },
   "outputs": [],
   "source": [
    "ligands = [\"OCC(O)NCN(CCc1ccc(-c2ccncc2)cc1)c1ccccc1\"]\n",
    "Target = \"ROCK2_6ED6\""
   ]
  },
  {
   "cell_type": "code",
   "execution_count": 4,
   "id": "26394949",
   "metadata": {
    "ExecuteTime": {
     "end_time": "2025-04-09T03:56:19.632617Z",
     "start_time": "2025-04-09T03:56:14.369097Z"
    }
   },
   "outputs": [],
   "source": [
    "# Vina Make Grid\n",
    "\n",
    "from vina import Vina\n",
    "\n",
    "grid = \"ROCK2_6ED6\"\n",
    "pdbqt_path = f'dock_comp/PDB/{grid}.pdbqt'\n",
    "grid_path = 'dock_comp/vina_run/vina_grid/'\n",
    "v = Vina(sf_name='vina', verbosity=0, cpu=8)\n",
    "v.set_receptor(pdbqt_path)\n",
    "v.compute_vina_maps(center=[0, 0, 0], box_size=[25, 25, 25], force_even_voxels=True)\n",
    "v.write_maps(map_prefix_filename=grid_path+ grid)"
   ]
  },
  {
   "cell_type": "code",
   "execution_count": 9,
   "id": "2da3031c",
   "metadata": {
    "ExecuteTime": {
     "end_time": "2025-04-09T04:00:29.336313Z",
     "start_time": "2025-04-09T03:57:57.201112Z"
    }
   },
   "outputs": [
    {
     "name": "stdout",
     "output_type": "stream",
     "text": [
      "jobid: dellt7920-0-67f5f04a, waiting the job to finish.\n",
      "\"vsw_run\"           \tdellt7920-0-67f5f04a\tfinished 2025-04-09-12:00:28 on dellt7920\n"
     ]
    },
    {
     "data": {
      "text/plain": [
       "[-10.7757466809693]"
      ]
     },
     "execution_count": 9,
     "metadata": {},
     "output_type": "execute_result"
    }
   ],
   "source": [
    "# schrodinger Docking Test\n",
    "import os\n",
    "os.environ['SCHRODINGER']=\"/opt/schrodinger2023-4\"\n",
    "\n",
    "from dock_comp import schrodinger_dock\n",
    "schrodinger_dock(ligands, Target)"
   ]
  },
  {
   "cell_type": "code",
   "execution_count": 4,
   "id": "ff88b60b",
   "metadata": {
    "ExecuteTime": {
     "end_time": "2025-04-09T04:22:41.129476Z",
     "start_time": "2025-04-09T04:22:41.118568Z"
    }
   },
   "outputs": [
    {
     "data": {
      "text/plain": [
       "[-8.69]"
      ]
     },
     "execution_count": 4,
     "metadata": {},
     "output_type": "execute_result"
    }
   ],
   "source": [
    "# Vina Docking Test\n",
    "\n",
    "from dock_comp import vina_dock\n",
    "vina_dock(ligands, Target)"
   ]
  },
  {
   "cell_type": "code",
   "execution_count": null,
   "id": "1a331e7b",
   "metadata": {
    "ExecuteTime": {
     "end_time": "2025-04-09T04:26:12.847492Z",
     "start_time": "2025-04-09T04:26:07.938886Z"
    },
    "scrolled": true
   },
   "outputs": [],
   "source": [
    "# Unidock Docking Test\n",
    "import os\n",
    "os.environ[\"PATH\"] = f\"/opt/miniconda3/envs/dgmm/bin:{os.environ['PATH']}\"\n",
    "\n",
    "from dock_comp import uni_dock\n",
    "uni_dock(ligands, Target)"
   ]
  },
  {
   "cell_type": "code",
   "execution_count": null,
   "id": "be0d2659",
   "metadata": {},
   "outputs": [],
   "source": []
  }
 ],
 "metadata": {
  "kernelspec": {
   "display_name": "dgmm",
   "language": "python",
   "name": "dgmm"
  },
  "language_info": {
   "codemirror_mode": {
    "name": "ipython",
    "version": 3
   },
   "file_extension": ".py",
   "mimetype": "text/x-python",
   "name": "python",
   "nbconvert_exporter": "python",
   "pygments_lexer": "ipython3",
   "version": "3.12.9"
  }
 },
 "nbformat": 4,
 "nbformat_minor": 5
}
